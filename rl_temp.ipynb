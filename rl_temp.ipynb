{
 "cells": [
  {
   "cell_type": "markdown",
   "metadata": {},
   "source": [
    "## 1. Install Libs"
   ]
  },
  {
   "cell_type": "code",
   "execution_count": 1,
   "metadata": {},
   "outputs": [],
   "source": [
    "#-- Action we can take to the environment and current state of that environment (Discrete, Box)\n",
    "#-- Discrete : Discrete Space (Action Number)\n",
    "#-- Box : Box Space (set 1-100 points)\n",
    "import random\n",
    "import numpy as np\n",
    "import matplotlib.pyplot as plt\n",
    "from gym import Env\n",
    "from gym.spaces import Discrete, Box \n",
    "from rl.agents import DQNAgent\n",
    "from rl.policy import BoltzmannQPolicy\n",
    "from rl.memory import SequentialMemory\n",
    "from keras.callbacks import Callback\n",
    "from tensorflow.keras.models import Sequential\n",
    "from tensorflow.keras.optimizers import Adam\n",
    "from tensorflow.keras.layers import Dense, Flatten\n"
   ]
  },
  {
   "cell_type": "markdown",
   "metadata": {},
   "source": [
    "## 2. Create Own Custom RL Environment"
   ]
  },
  {
   "cell_type": "code",
   "execution_count": 3,
   "metadata": {},
   "outputs": [],
   "source": [
    "#-- Environment Class for Shower Temp 37 to 39 (shower length is 60 second), try to optimal temp as long as possible\n",
    "class ShowerEnv(Env):\n",
    "    def __init__(self):\n",
    "        #-- Set action type : decrease, stay, increase\n",
    "        self.action_space = Discrete(3)\n",
    "        #-- Temperature Range (1 - 100)\n",
    "        self.observation_space = Box(low=np.array([0]), high=np.array([100]))\n",
    "        #-- Set initial temperature\n",
    "        self.state = 38 + random.randint(-5,5)\n",
    "        #-- Set shower length (60sec)\n",
    "        self.shower_length = 120\n",
    "    \n",
    "    def step(self, action):\n",
    "        #-- Action Type\n",
    "        # 0 -1 = -1 decrease temperature\n",
    "        # 1 -1 = 0 \n",
    "        # 2 -1 = 1 increase temperature \n",
    "        self.state += action -1 \n",
    "        #-- Reduce shower length by 1 second\n",
    "        self.shower_length -= 1 \n",
    "        \n",
    "        #-- Reward calculation\n",
    "        if self.state >=37 and self.state <=39: \n",
    "            reward =1 \n",
    "        else: \n",
    "            reward = -1 \n",
    "        \n",
    "        #-- Check if shower length is 0 : done\n",
    "        if self.shower_length <= 0: \n",
    "            done = True\n",
    "        else:\n",
    "            done = False\n",
    "        \n",
    "        #-- \n",
    "        info = {}\n",
    "        return self.state, reward, done, info\n",
    "\n",
    "    def render(self):\n",
    "        pass\n",
    "    \n",
    "    def reset(self):\n",
    "        #-- Reset shower temperature\n",
    "        self.state = 38 + random.randint(-5,5)\n",
    "        #-- Reset shower length\n",
    "        self.shower_length = 120\n",
    "        return self.state\n",
    "    "
   ]
  },
  {
   "cell_type": "code",
   "execution_count": 4,
   "metadata": {},
   "outputs": [
    {
     "name": "stdout",
     "output_type": "stream",
     "text": [
      "Action : 0\n",
      "State : [97.6204]\n"
     ]
    },
    {
     "name": "stderr",
     "output_type": "stream",
     "text": [
      "c:\\Users\\HP\\anaconda3\\envs\\rl_medium\\lib\\site-packages\\gym\\spaces\\box.py:127: UserWarning: \u001b[33mWARN: Box bound precision lowered by casting to float32\u001b[0m\n",
      "  logger.warn(f\"Box bound precision lowered by casting to {self.dtype}\")\n"
     ]
    }
   ],
   "source": [
    "#-- Test Custom Environment Action and Observation (State)\n",
    "env = ShowerEnv()\n",
    "#-- From Discrete which we create : Value will between 0 to 2 which are 0, 1, 2\n",
    "print(\"Action :\",env.action_space.sample())\n",
    "#-- From Box which we create : Value will between 1 to 100 \n",
    "print(\"State :\", env.observation_space.sample())"
   ]
  },
  {
   "cell_type": "markdown",
   "metadata": {},
   "source": [
    "# 3. Build Deep Learning Model"
   ]
  },
  {
   "cell_type": "code",
   "execution_count": 5,
   "metadata": {},
   "outputs": [
    {
     "name": "stdout",
     "output_type": "stream",
     "text": [
      "Model: \"sequential\"\n",
      "_________________________________________________________________\n",
      " Layer (type)                Output Shape              Param #   \n",
      "=================================================================\n",
      " dense (Dense)               (None, 128)               256       \n",
      "                                                                 \n",
      " dense_1 (Dense)             (None, 128)               16512     \n",
      "                                                                 \n",
      " dense_2 (Dense)             (None, 3)                 387       \n",
      "                                                                 \n",
      "=================================================================\n",
      "Total params: 17,155\n",
      "Trainable params: 17,155\n",
      "Non-trainable params: 0\n",
      "_________________________________________________________________\n"
     ]
    }
   ],
   "source": [
    "#-- state is the number of input data shape\n",
    "#-- actions = number of output data type\n",
    "#-- Deep Learning Model\n",
    "def build_model(states, actions):\n",
    "    model = Sequential()    \n",
    "    model.add(Dense(128, activation='relu', input_shape=states))\n",
    "    model.add(Dense(128, activation='relu'))\n",
    "    model.add(Dense(actions, activation='linear'))\n",
    "    return model\n",
    "\n",
    "#-- Build Deep Learning Model\n",
    "states = env.observation_space.shape\n",
    "actions = env.action_space.n\n",
    "model = build_model(states, actions)\n",
    "model.summary()"
   ]
  },
  {
   "cell_type": "markdown",
   "metadata": {},
   "source": [
    "# 4. Build RL Agent Model "
   ]
  },
  {
   "cell_type": "code",
   "execution_count": 6,
   "metadata": {},
   "outputs": [],
   "source": [
    "#-- Callback Function : Reward Store \n",
    "class RewardLogger(Callback):\n",
    "    def __init__(self):\n",
    "        self.episode_rewards = []\n",
    "        self.total_rewards = 0\n",
    "\n",
    "    def on_episode_begin(self, episode, logs={}):\n",
    "        self.total_rewards = 0\n",
    "\n",
    "    def on_step_end(self, step, logs={}):\n",
    "        self.total_rewards += logs['reward']\n",
    "\n",
    "    def on_episode_end(self, episode, logs={}):\n",
    "        self.episode_rewards.append(self.total_rewards)\n",
    "    \n",
    "    def plot_rewards(self):\n",
    "        plt.plot(self.episode_rewards)\n",
    "        plt.title(\"Total Reward per Episode\")\n",
    "        plt.xlabel(\"Episode\")\n",
    "        plt.ylabel(\"Total Reward\")\n",
    "        plt.show()"
   ]
  },
  {
   "cell_type": "code",
   "execution_count": 75,
   "metadata": {},
   "outputs": [
    {
     "name": "stdout",
     "output_type": "stream",
     "text": [
      "Training for 40000 steps ...\n",
      "Interval 1 (0 steps performed)\n",
      "10000/10000 [==============================] - 42s 4ms/step - reward: -0.6204\n",
      "83 episodes - episode_reward: -75.060 [-120.000, 62.000] - loss: 0.234 - mae: 2.210 - mean_q: -2.951\n",
      "\n",
      "Interval 2 (10000 steps performed)\n",
      "10000/10000 [==============================] - 46s 5ms/step - reward: 0.7618\n",
      "83 episodes - episode_reward: 91.229 [-18.000, 120.000] - loss: 0.234 - mae: 3.304 - mean_q: -1.792\n",
      "\n",
      "Interval 3 (20000 steps performed)\n",
      "10000/10000 [==============================] - 45s 4ms/step - reward: 0.8816\n",
      "84 episodes - episode_reward: 105.810 [92.000, 116.000] - loss: 0.583 - mae: 6.824 - mean_q: 9.058\n",
      "\n",
      "Interval 4 (30000 steps performed)\n",
      "10000/10000 [==============================] - 46s 5ms/step - reward: 0.8502\n",
      "done, took 179.468 seconds\n"
     ]
    },
    {
     "data": {
      "text/plain": [
       "<keras.callbacks.History at 0x298fdb9f640>"
      ]
     },
     "execution_count": 75,
     "metadata": {},
     "output_type": "execute_result"
    }
   ],
   "source": [
    "#-- Clear model cache and rebuild deep lerning model\n",
    "del model \n",
    "model = build_model(states, actions)\n",
    "\n",
    "reward_logger = RewardLogger()\n",
    "\n",
    "#-- Keras Rl model \n",
    "def build_agent(model, actions):\n",
    "    policy = BoltzmannQPolicy()\n",
    "    memory = SequentialMemory(limit=100000, window_length=1)\n",
    "    #-- weight update every 0.1% change\n",
    "    dqn = DQNAgent(model=model, memory=memory, policy=policy, \n",
    "                  nb_actions=actions, nb_steps_warmup=1000, target_model_update=1e-3)\n",
    "    return dqn\n",
    "\n",
    "#-- Build Rl model\n",
    "dqn = build_agent(model, actions)\n",
    "dqn.compile(Adam(lr=1e-3), metrics=['mae'])\n",
    "dqn.fit(env, nb_steps=40000, visualize=False, verbose=1, callbacks=[reward_logger])\n",
    "\n",
    "#-- Plot toal reward\n",
    "reward_logger.plot_rewards()"
   ]
  },
  {
   "cell_type": "markdown",
   "metadata": {},
   "source": [
    "## 5. Running the Agent Environment"
   ]
  },
  {
   "cell_type": "code",
   "execution_count": 77,
   "metadata": {},
   "outputs": [
    {
     "name": "stdout",
     "output_type": "stream",
     "text": [
      "Testing for 100 episodes ...\n",
      "Episode 1: reward: 120.000, steps: 120\n",
      "Episode 2: reward: 118.000, steps: 120\n",
      "Episode 3: reward: 120.000, steps: 120\n",
      "Episode 4: reward: 120.000, steps: 120\n",
      "Episode 5: reward: 118.000, steps: 120\n",
      "Episode 6: reward: 114.000, steps: 120\n",
      "Episode 7: reward: 120.000, steps: 120\n",
      "Episode 8: reward: 114.000, steps: 120\n",
      "Episode 9: reward: 120.000, steps: 120\n",
      "Episode 10: reward: 120.000, steps: 120\n",
      "Episode 11: reward: 114.000, steps: 120\n",
      "Episode 12: reward: 114.000, steps: 120\n",
      "Episode 13: reward: 114.000, steps: 120\n",
      "Episode 14: reward: 116.000, steps: 120\n",
      "Episode 15: reward: 120.000, steps: 120\n",
      "Episode 16: reward: 116.000, steps: 120\n",
      "Episode 17: reward: 114.000, steps: 120\n",
      "Episode 18: reward: 120.000, steps: 120\n",
      "Episode 19: reward: 120.000, steps: 120\n",
      "Episode 20: reward: 120.000, steps: 120\n",
      "Episode 21: reward: 118.000, steps: 120\n",
      "Episode 22: reward: 114.000, steps: 120\n",
      "Episode 23: reward: 120.000, steps: 120\n",
      "Episode 24: reward: 120.000, steps: 120\n",
      "Episode 25: reward: 120.000, steps: 120\n",
      "Episode 26: reward: 116.000, steps: 120\n",
      "Episode 27: reward: 118.000, steps: 120\n",
      "Episode 28: reward: 120.000, steps: 120\n",
      "Episode 29: reward: 114.000, steps: 120\n",
      "Episode 30: reward: 120.000, steps: 120\n",
      "Episode 31: reward: 114.000, steps: 120\n",
      "Episode 32: reward: 116.000, steps: 120\n",
      "Episode 33: reward: 114.000, steps: 120\n",
      "Episode 34: reward: 120.000, steps: 120\n",
      "Episode 35: reward: 116.000, steps: 120\n",
      "Episode 36: reward: 118.000, steps: 120\n",
      "Episode 37: reward: 120.000, steps: 120\n",
      "Episode 38: reward: 120.000, steps: 120\n",
      "Episode 39: reward: 118.000, steps: 120\n",
      "Episode 40: reward: 114.000, steps: 120\n",
      "Episode 41: reward: 120.000, steps: 120\n",
      "Episode 42: reward: 114.000, steps: 120\n",
      "Episode 43: reward: 120.000, steps: 120\n",
      "Episode 44: reward: 116.000, steps: 120\n",
      "Episode 45: reward: 120.000, steps: 120\n",
      "Episode 46: reward: 120.000, steps: 120\n",
      "Episode 47: reward: 114.000, steps: 120\n",
      "Episode 48: reward: 118.000, steps: 120\n",
      "Episode 49: reward: 120.000, steps: 120\n",
      "Episode 50: reward: 120.000, steps: 120\n",
      "Episode 51: reward: 116.000, steps: 120\n",
      "Episode 52: reward: 118.000, steps: 120\n",
      "Episode 53: reward: 120.000, steps: 120\n",
      "Episode 54: reward: 120.000, steps: 120\n",
      "Episode 55: reward: 114.000, steps: 120\n",
      "Episode 56: reward: 116.000, steps: 120\n",
      "Episode 57: reward: 120.000, steps: 120\n",
      "Episode 58: reward: 118.000, steps: 120\n",
      "Episode 59: reward: 120.000, steps: 120\n",
      "Episode 60: reward: 120.000, steps: 120\n",
      "Episode 61: reward: 114.000, steps: 120\n",
      "Episode 62: reward: 120.000, steps: 120\n",
      "Episode 63: reward: 120.000, steps: 120\n",
      "Episode 64: reward: 120.000, steps: 120\n",
      "Episode 65: reward: 120.000, steps: 120\n",
      "Episode 66: reward: 120.000, steps: 120\n",
      "Episode 67: reward: 120.000, steps: 120\n",
      "Episode 68: reward: 114.000, steps: 120\n",
      "Episode 69: reward: 114.000, steps: 120\n",
      "Episode 70: reward: 120.000, steps: 120\n",
      "Episode 71: reward: 118.000, steps: 120\n",
      "Episode 72: reward: 118.000, steps: 120\n",
      "Episode 73: reward: 120.000, steps: 120\n",
      "Episode 74: reward: 116.000, steps: 120\n",
      "Episode 75: reward: 120.000, steps: 120\n",
      "Episode 76: reward: 116.000, steps: 120\n",
      "Episode 77: reward: 118.000, steps: 120\n",
      "Episode 78: reward: 120.000, steps: 120\n",
      "Episode 79: reward: 118.000, steps: 120\n",
      "Episode 80: reward: 120.000, steps: 120\n",
      "Episode 81: reward: 120.000, steps: 120\n",
      "Episode 82: reward: 118.000, steps: 120\n",
      "Episode 83: reward: 120.000, steps: 120\n",
      "Episode 84: reward: 120.000, steps: 120\n",
      "Episode 85: reward: 120.000, steps: 120\n",
      "Episode 86: reward: 118.000, steps: 120\n",
      "Episode 87: reward: 114.000, steps: 120\n",
      "Episode 88: reward: 114.000, steps: 120\n",
      "Episode 89: reward: 114.000, steps: 120\n",
      "Episode 90: reward: 114.000, steps: 120\n",
      "Episode 91: reward: 116.000, steps: 120\n",
      "Episode 92: reward: 120.000, steps: 120\n",
      "Episode 93: reward: 120.000, steps: 120\n",
      "Episode 94: reward: 116.000, steps: 120\n",
      "Episode 95: reward: 120.000, steps: 120\n",
      "Episode 96: reward: 116.000, steps: 120\n",
      "Episode 97: reward: 116.000, steps: 120\n",
      "Episode 98: reward: 120.000, steps: 120\n",
      "Episode 99: reward: 114.000, steps: 120\n",
      "Episode 100: reward: 116.000, steps: 120\n",
      "117.78\n"
     ]
    }
   ],
   "source": [
    "#-- Running the Agent Environment\n",
    "scores = dqn.test(env, nb_episodes=100, visualize=False)\n",
    "print(np.mean(scores.history['episode_reward']))"
   ]
  }
 ],
 "metadata": {
  "kernelspec": {
   "display_name": "Python 3",
   "language": "python",
   "name": "python3"
  },
  "language_info": {
   "codemirror_mode": {
    "name": "ipython",
    "version": 3
   },
   "file_extension": ".py",
   "mimetype": "text/x-python",
   "name": "python",
   "nbconvert_exporter": "python",
   "pygments_lexer": "ipython3",
   "version": "3.10.14"
  }
 },
 "nbformat": 4,
 "nbformat_minor": 2
}
